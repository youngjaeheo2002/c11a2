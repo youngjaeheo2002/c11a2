{
 "cells": [
  {
   "cell_type": "code",
   "execution_count": 1,
   "metadata": {},
   "outputs": [],
   "source": [
    "#import libraries\n",
    "import numpy as np\n",
    "from sklearn.model_selection import train_test_split\n",
    "from sklearn.metrics import accuracy_score"
   ]
  },
  {
   "cell_type": "code",
   "execution_count": 2,
   "metadata": {},
   "outputs": [],
   "source": [
    "#create useable data set for X\n",
    "\n",
    "dataX = np.zeros((2225,9635))\n",
    "dataY = np.zeros((2225,1))\n",
    "\n",
    "docs_file = open('bbc.docs','r')\n",
    "docs_content = docs_file.read()\n",
    "docs_content = docs_content.split('\\n')\n",
    "#read file\n",
    "with open('bbc.mtx','r') as file:\n",
    "\n",
    "    file.readline()\n",
    "    file.readline()\n",
    "\n",
    "    for line in file:\n",
    "        words = line.split()\n",
    "\n",
    "        term = int(words[0])\n",
    "        article = int(words[1])\n",
    "        frequency= float(words[2])\n",
    "        dataX[article-1][term-1] = frequency\n",
    "#fill DataY\n",
    "for i in range(len(docs_content)):\n",
    "    article_type = docs_content[i].split('.')[0]\n",
    "    article_type = article_type.lower()\n",
    "    if article_type == 'business':\n",
    "        dataY[i] = 0\n",
    "\n",
    "    elif article_type == 'entertainment':\n",
    "        dataY[i] = 1\n",
    "\n",
    "    elif article_type == 'politics':\n",
    "        dataY[i] = 2\n",
    "\n",
    "    elif article_type == 'sport':\n",
    "        dataY[i] = 3\n",
    "\n",
    "    elif article_type == 'tech':\n",
    "        dataY[i] = 4\n",
    "\n",
    "    else:\n",
    "        if article_type == '':\n",
    "            pass\n",
    "        else:\n",
    "            raise ValueError(\"Invalid article type: {}\".format(article_type))"
   ]
  },
  {
   "cell_type": "code",
   "execution_count": 3,
   "metadata": {},
   "outputs": [
    {
     "name": "stdout",
     "output_type": "stream",
     "text": [
      "X_train.shape:  (1780, 9635) y_train.shape: (1780, 1) X_test.shape: (445, 9635) y_test.shape (445, 1)\n"
     ]
    }
   ],
   "source": [
    "#split the data into training adn testing data\n",
    "X_train, X_test, y_train, y_test = train_test_split(dataX, dataY, test_size=0.2, random_state=42)\n",
    "\n",
    "print ('X_train.shape: ', X_train.shape, \"y_train.shape:\",y_train.shape, \"X_test.shape:\",X_test.shape, \"y_test.shape\",y_test.shape)"
   ]
  },
  {
   "cell_type": "code",
   "execution_count": 14,
   "metadata": {},
   "outputs": [
    {
     "name": "stdout",
     "output_type": "stream",
     "text": [
      "occurences [395 314 341 409 321]\n",
      "[[0.34683544 0.85822785 0.25063291 ... 0.         0.         0.        ]\n",
      " [0.2866242  0.32802548 0.03821656 ... 0.         0.         0.        ]\n",
      " [0.46627566 0.03812317 0.09090909 ... 0.         0.         0.        ]\n",
      " [0.43765281 0.07090465 0.04400978 ... 0.         0.         0.        ]\n",
      " [0.38629283 0.36137072 0.05607477 ... 0.01246106 0.00934579 0.00311526]]\n",
      "[[0.34683544 0.85822785 0.25063291 ... 0.         0.         0.        ]\n",
      " [0.2866242  0.32802548 0.03821656 ... 0.         0.         0.        ]\n",
      " [0.46627566 0.03812317 0.09090909 ... 0.         0.         0.        ]\n",
      " [0.43765281 0.07090465 0.04400978 ... 0.         0.         0.        ]\n",
      " [0.38629283 0.36137072 0.05607477 ... 0.01246106 0.00934579 0.00311526]]\n"
     ]
    }
   ],
   "source": [
    "#calculate means with X_train\n",
    "\n",
    "means = np.zeros((5,9635))\n",
    "occurences = np.array([0,0,0,0,0])\n",
    "for i in range(len(X_train)):\n",
    "    type_of_article = y_train[i][0]\n",
    "    occurences[int(type_of_article)] += 1\n",
    "    means[int(type_of_article)] = np.add(means[int(type_of_article)],X_train[i])\n",
    "print('occurences',occurences)\n",
    "for i in range(5):\n",
    "    means[i] = means[i]/occurences[i]\n",
    "\n",
    "print(means)\n",
    "print(means)"
   ]
  },
  {
   "cell_type": "code",
   "execution_count": 17,
   "metadata": {},
   "outputs": [],
   "source": [
    "#calculate the covariance matrices\n",
    "covs = []\n",
    "covs_invs = []\n",
    "#calculate business covariance matrix\n",
    "\n",
    "businessX = X_train[y_train[:, 0] == 0]\n",
    "cov0 = np.var(businessX, axis = 0)\n",
    "cov0 = np.diag(cov0)\n",
    "covs.append(cov0)\n",
    "#calculate the entertainment covaraince matrix\n",
    "entertainmentX = X_train[y_train[:, 0] == 1]\n",
    "cov1 = np.var(entertainmentX, axis = 0)\n",
    "cov1 = np.diag(cov1)\n",
    "covs.append(cov1)\n",
    "#calculate the politics covaraince matrix\n",
    "politicsX = X_train[y_train[:, 0] == 2]\n",
    "cov2 = np.var(politicsX, axis = 0)\n",
    "cov2 = np.diag(cov2)\n",
    "covs.append(cov2)\n",
    "#calculate the sport covaraince matrix\n",
    "sportX = X_train[y_train[:, 0] == 3]\n",
    "cov3 = np.var(sportX, axis = 0)\n",
    "cov3 = np.diag(cov3)\n",
    "covs.append(cov3)\n",
    "#calculate the tech covaraince matrix\n",
    "techX = X_train[y_train[:, 0] == 4]\n",
    "cov4 = np.var(techX, axis = 0)\n",
    "cov4 = np.diag(cov4)\n",
    "covs.append(cov4)\n",
    "\n",
    "\n",
    "        \n",
    "\n",
    "\n",
    "    \n",
    "\n",
    "\n"
   ]
  },
  {
   "cell_type": "code",
   "execution_count": 18,
   "metadata": {},
   "outputs": [],
   "source": [
    "def getPclassgivenX(x, mean1, cov1):\n",
    "    print('hello')\n",
    "    # TODO: Complete function\n",
    "    d = (-1/2) * (x - mean1).T @ np.linalg.pinv(cov1) @ (x - mean1) - (1/2) * np.linalg.slogdet(cov1)[1]\n",
    "\n",
    "    return d"
   ]
  },
  {
   "cell_type": "code",
   "execution_count": 19,
   "metadata": {},
   "outputs": [
    {
     "name": "stdout",
     "output_type": "stream",
     "text": [
      "0\n",
      "hello\n"
     ]
    }
   ],
   "source": [
    "y_pred = np.array((y_test.shape))\n",
    "\n",
    "for i in range(len(X_test)):\n",
    "    print(i)\n",
    "    allDs = np.array([getPclassgivenX(X_test[i],means[0],covs[0]),\\\n",
    "                      getPclassgivenX(X_test[i],means[1],covs[1]),\\\n",
    "                        getPclassgivenX(X_test[i],means[2],covs[2]),\\\n",
    "                            getPclassgivenX(X_test[i],means[3],covs[3]),\\\n",
    "                                getPclassgivenX(X_test[i],means[4],covs[4])])\n",
    "    "
   ]
  }
 ],
 "metadata": {
  "kernelspec": {
   "display_name": "Python 3",
   "language": "python",
   "name": "python3"
  },
  "language_info": {
   "codemirror_mode": {
    "name": "ipython",
    "version": 3
   },
   "file_extension": ".py",
   "mimetype": "text/x-python",
   "name": "python",
   "nbconvert_exporter": "python",
   "pygments_lexer": "ipython3",
   "version": "3.10.12"
  }
 },
 "nbformat": 4,
 "nbformat_minor": 2
}
