{
 "cells": [
  {
   "cell_type": "code",
   "execution_count": 1,
   "metadata": {
    "id": "J1grKKjV-nzO",
    "outputId": "2b07549d-7ba6-4e10-dd9d-b232e58d6d35"
   },
   "outputs": [
    {
     "name": "stdout",
     "output_type": "stream",
     "text": [
      "Defaulting to user installation because normal site-packages is not writeable\n",
      "Requirement already satisfied: librosa in /cmshome/heoyoun1/.local/lib/python3.10/site-packages (0.10.1)\n",
      "Requirement already satisfied: audioread>=2.1.9 in /cmshome/heoyoun1/.local/lib/python3.10/site-packages (from librosa) (3.0.1)\n",
      "Requirement already satisfied: numpy!=1.22.0,!=1.22.1,!=1.22.2,>=1.20.3 in /cmshome/heoyoun1/.local/lib/python3.10/site-packages (from librosa) (1.26.2)\n",
      "Requirement already satisfied: scipy>=1.2.0 in /cmshome/heoyoun1/.local/lib/python3.10/site-packages (from librosa) (1.11.4)\n",
      "Requirement already satisfied: scikit-learn>=0.20.0 in /cmshome/heoyoun1/.local/lib/python3.10/site-packages (from librosa) (1.3.2)\n",
      "Requirement already satisfied: joblib>=0.14 in /cmshome/heoyoun1/.local/lib/python3.10/site-packages (from librosa) (1.3.2)\n",
      "Requirement already satisfied: decorator>=4.3.0 in /cmshome/heoyoun1/.local/lib/python3.10/site-packages (from librosa) (5.1.1)\n",
      "Requirement already satisfied: numba>=0.51.0 in /cmshome/heoyoun1/.local/lib/python3.10/site-packages (from librosa) (0.58.1)\n",
      "Requirement already satisfied: soundfile>=0.12.1 in /cmshome/heoyoun1/.local/lib/python3.10/site-packages (from librosa) (0.12.1)\n",
      "Requirement already satisfied: pooch>=1.0 in /cmshome/heoyoun1/.local/lib/python3.10/site-packages (from librosa) (1.8.0)\n",
      "Requirement already satisfied: soxr>=0.3.2 in /cmshome/heoyoun1/.local/lib/python3.10/site-packages (from librosa) (0.3.7)\n",
      "Requirement already satisfied: typing-extensions>=4.1.1 in /cmshome/heoyoun1/.local/lib/python3.10/site-packages (from librosa) (4.8.0)\n",
      "Requirement already satisfied: lazy-loader>=0.1 in /cmshome/heoyoun1/.local/lib/python3.10/site-packages (from librosa) (0.3)\n",
      "Requirement already satisfied: msgpack>=1.0 in /usr/lib/python3/dist-packages (from librosa) (1.0.3)\n",
      "Requirement already satisfied: llvmlite<0.42,>=0.41.0dev0 in /cmshome/heoyoun1/.local/lib/python3.10/site-packages (from numba>=0.51.0->librosa) (0.41.1)\n",
      "Requirement already satisfied: platformdirs>=2.5.0 in /cmshome/heoyoun1/.local/lib/python3.10/site-packages (from pooch>=1.0->librosa) (4.0.0)\n",
      "Requirement already satisfied: packaging>=20.0 in /cmshome/heoyoun1/.local/lib/python3.10/site-packages (from pooch>=1.0->librosa) (23.2)\n",
      "Requirement already satisfied: requests>=2.19.0 in /usr/lib/python3/dist-packages (from pooch>=1.0->librosa) (2.25.1)\n",
      "Requirement already satisfied: threadpoolctl>=2.0.0 in /cmshome/heoyoun1/.local/lib/python3.10/site-packages (from scikit-learn>=0.20.0->librosa) (3.2.0)\n",
      "Requirement already satisfied: cffi>=1.0 in /cmshome/heoyoun1/.local/lib/python3.10/site-packages (from soundfile>=0.12.1->librosa) (1.16.0)\n",
      "Requirement already satisfied: pycparser in /cmshome/heoyoun1/.local/lib/python3.10/site-packages (from cffi>=1.0->soundfile>=0.12.1->librosa) (2.21)\n",
      "Note: you may need to restart the kernel to use updated packages.\n"
     ]
    }
   ],
   "source": [
    "pip install librosa"
   ]
  },
  {
   "cell_type": "code",
   "execution_count": 2,
   "metadata": {
    "id": "0CQf65BS-nzT",
    "outputId": "37de0002-4906-4e99-a47f-609be2f2fade"
   },
   "outputs": [
    {
     "data": {
      "text/plain": [
       "'\\nPlease install this specific version of resampy for librosa to work without errors.\\n'"
      ]
     },
     "execution_count": 2,
     "metadata": {},
     "output_type": "execute_result"
    }
   ],
   "source": [
    "'''\n",
    "Please install this specific version of resampy for librosa to work without errors.\n",
    "'''"
   ]
  },
  {
   "cell_type": "code",
   "execution_count": 3,
   "metadata": {
    "id": "7FE1qM7n-nzU",
    "outputId": "02c7b706-8c9c-42b4-ed25-b98f7cd915de"
   },
   "outputs": [
    {
     "name": "stdout",
     "output_type": "stream",
     "text": [
      "Defaulting to user installation because normal site-packages is not writeable\n",
      "Requirement already satisfied: resampy==0.3.1 in /cmshome/heoyoun1/.local/lib/python3.10/site-packages (0.3.1)\n",
      "Requirement already satisfied: numpy>=1.17 in /cmshome/heoyoun1/.local/lib/python3.10/site-packages (from resampy==0.3.1) (1.26.2)\n",
      "Requirement already satisfied: numba>=0.47 in /cmshome/heoyoun1/.local/lib/python3.10/site-packages (from resampy==0.3.1) (0.58.1)\n",
      "Requirement already satisfied: llvmlite<0.42,>=0.41.0dev0 in /cmshome/heoyoun1/.local/lib/python3.10/site-packages (from numba>=0.47->resampy==0.3.1) (0.41.1)\n",
      "Note: you may need to restart the kernel to use updated packages.\n"
     ]
    }
   ],
   "source": [
    "pip install resampy==0.3.1"
   ]
  },
  {
   "cell_type": "code",
   "execution_count": 1,
   "metadata": {
    "id": "_hwFIUlFzTYw",
    "outputId": "9419a67b-5c1d-47e0-a7f5-ec9b9cad5bca"
   },
   "outputs": [],
   "source": [
    "import soundfile\n",
    "import os\n",
    "import glob\n",
    "import pandas as pd\n",
    "import numpy as np\n",
    "from sklearn.model_selection import train_test_split\n",
    "import librosa\n",
    "from sklearn.svm import SVC, LinearSVC\n",
    "from sklearn.metrics import classification_report\n",
    "import warnings; warnings.filterwarnings('ignore')\n"
   ]
  },
  {
   "cell_type": "code",
   "execution_count": 2,
   "metadata": {
    "id": "GWrZdqrp2E98"
   },
   "outputs": [],
   "source": [
    "emotions ={\n",
    "  '01':'neutral',\n",
    "  '02':'calm',\n",
    "  '03':'happy',\n",
    "  '04':'sad',\n",
    "  '05':'angry',\n",
    "  '06':'fearful',\n",
    "  '07':'disgust',\n",
    "  '08':'surprised'\n",
    "}"
   ]
  },
  {
   "cell_type": "markdown",
   "metadata": {
    "id": "UrgQMSEU-nzZ"
   },
   "source": [
    "### Data for binary classification\n"
   ]
  },
  {
   "cell_type": "code",
   "execution_count": 4,
   "metadata": {
    "id": "vSe0sBT12HgO"
   },
   "outputs": [
    {
     "ename": "IndentationError",
     "evalue": "unexpected indent (3178016529.py, line 30)",
     "output_type": "error",
     "traceback": [
      "\u001b[0;36m  Cell \u001b[0;32mIn[4], line 30\u001b[0;36m\u001b[0m\n\u001b[0;31m    sr = audio.samplerate\u001b[0m\n\u001b[0m    ^\u001b[0m\n\u001b[0;31mIndentationError\u001b[0m\u001b[0;31m:\u001b[0m unexpected indent\n"
     ]
    }
   ],
   "source": [
    "def load_extract_features(data_path):\n",
    "\n",
    "    '''\n",
    "    load_extract_features() is a function that is used to load all the audio files one at a time, compute their features and return the features as well as the target values.\n",
    "\n",
    "    There are around 8-10 audio files which are corrupted. We hardcode zero values for such files in order to maintain consistency.\n",
    "\n",
    "    ['calm', 'happy'] emotion data is categorized into 'positive' and  ['angry', 'fearful'] into 'negative'\n",
    "\n",
    "    Returns:\n",
    "    1. Features\n",
    "    2. Binary Target Values\n",
    "    '''\n",
    "    final_features,target_emotions, binary_label = [],[], []\n",
    "    count = 0\n",
    "    \n",
    "    for i in glob.glob(data_path + \"/Actor_*/*.wav\"): #Loop to read every file.\n",
    "        \n",
    "        name = os.path.basename(i)\n",
    "        #We split the name of the file to understand the emotion associated with the file.\n",
    "        split = name.split(\"-\")\n",
    "        #We know that the third identifier is associated with the emotion of the audio file. Hence, we use [2] as it represents the third identifier.\n",
    "        emotion = emotions[split[2]]\n",
    "\n",
    "        #Below is the code to categorize the emotions into two classes to make this a binary problem.\n",
    "        if emotion in ['calm', 'happy']:\n",
    "            binary_label.append(0)\n",
    "        elif emotion in ['angry', 'fearful']:\n",
    "            sr = audio.samplerate\n",
    "            \n",
    "            #Below is the code to extract the Mel spectrogram features\n",
    "            #128 is the standard for machine learning applications using Mel spectrograms\n",
    "            m_feature = librosa.feature.melspectrogram(y=waveform, sr=sr, n_mels=128, fmax=sr / 2.0).T\n",
    "            melspectrogram = np.mean(m_feature,axis=0)\n",
    "            if melspectrogram.shape != (128,):\n",
    "                melspectrogram = np.zeros(128)\n",
    "            \n",
    "            #Below is the code to extract the chromagram features\n",
    "            stft_wave = librosa.stft(waveform)\n",
    "            stft = np.abs(stft_wave)\n",
    "            c_feature = librosa.feature.chroma_stft(S=stft, sr=sr).T\n",
    "            chromagram = np.mean(c_feature,axis=0)\n",
    "            binary_label.append(1)\n",
    "        else:\n",
    "            continue\n",
    "        \n",
    "        with soundfile.SoundFile(i) as audio:\n",
    "            waveform = audio.read(dtype=\"float32\")\n",
    "            count += 1\n",
    "            if count % 100 == 0:\n",
    "                print(\"Processed Audio File Number: \", count)\n",
    "    \n",
    "    #We return the features and the binary target values.\n",
    "    return np.array(final_features), np.array(binary_label)"
   ]
  },
  {
   "cell_type": "code",
   "execution_count": 8,
   "metadata": {
    "id": "aER6S-_k2a9H"
   },
   "outputs": [
    {
     "name": "stdout",
     "output_type": "stream",
     "text": [
      "Processed Audio File Number:  100\n",
      "Processed Audio File Number:  200\n",
      "Processed Audio File Number:  300\n",
      "Processed Audio File Number:  400\n",
      "Processed Audio File Number:  500\n",
      "Processed Audio File Number:  600\n",
      "Processed Audio File Number:  700\n"
     ]
    }
   ],
   "source": [
    "#Please change the path below to the path of the folder saved on your computer.\n",
    "data_path = './Audio_Speech_Actors_01-24'\n",
    "X, binary_label = load_extract_features(data_path)"
   ]
  },
  {
   "cell_type": "markdown",
   "metadata": {},
   "source": [
    "Part A\n"
   ]
  },
  {
   "cell_type": "code",
   "execution_count": 96,
   "metadata": {},
   "outputs": [
    {
     "name": "stdout",
     "output_type": "stream",
     "text": [
      "X_train.shape: (537, 140) X_test.shape (231, 140) y_train.shape: (537,) y_test.shape (537,)\n",
      "[[-1.83050401e+00 -1.84148142e+00 -1.85176346e+00 ... -2.43699073e-01\n",
      "  -2.40487392e-01 -1.96301015e+00]\n",
      " [-8.08687387e-01 -8.28040014e-01 -7.99988893e-01 ...  7.40905598e-03\n",
      "   2.40267493e-02 -1.14508196e+00]\n",
      " [ 8.35862034e-01  6.72398976e-01  6.80678039e-01 ... -3.67575132e-01\n",
      "  -3.38089401e-01  7.57446309e-01]\n",
      " ...\n",
      " [-1.45065049e+00 -1.43644601e+00 -1.41330461e+00 ...  6.63342773e-01\n",
      "   7.25006676e-01 -1.27837468e+00]\n",
      " [-9.23497284e-01 -9.08079307e-01 -8.88440444e-01 ...  1.62355699e+01\n",
      "   1.86773298e+01  4.62603562e+00]\n",
      " [ 4.66832395e-01  4.50153176e-01  7.16089874e-01 ... -2.02046972e-01\n",
      "  -1.97501830e-01  8.23664049e-01]]\n"
     ]
    }
   ],
   "source": [
    "\n",
    "\n",
    "#split data into test and training\n",
    "X_train, X_test, y_train, y_test = train_test_split(X,binary_label, test_size=0.3, random_state=42)\n",
    "print('X_train.shape:',X_train.shape,\"X_test.shape\",X_test.shape,\"y_train.shape:\",y_train.shape,\"y_test.shape\",y_train.shape)\n",
    "print(X_train)\n"
   ]
  },
  {
   "cell_type": "code",
   "execution_count": 97,
   "metadata": {},
   "outputs": [],
   "source": [
    "#implement kNearestNeighbours\n",
    "def knn(X_test_set, Xset, Yset,k):\n",
    "\n",
    "    y = np.zeros((X_test_set.shape[0],1))\n",
    "\n",
    "    for i in range(X_test_set.shape[0]):\n",
    "        distances = np.linalg.norm(Xset - X_test_set[i], axis=1)\n",
    "        nearest_indices = np.argsort(distances)[:k]\n",
    "\n",
    "        y[i] = np.round(np.mean(Yset[nearest_indices]))\n",
    "\n",
    "    return y\n"
   ]
  },
  {
   "cell_type": "code",
   "execution_count": 99,
   "metadata": {},
   "outputs": [
    {
     "name": "stdout",
     "output_type": "stream",
     "text": [
      "Max Score is at k =  1\n"
     ]
    },
    {
     "data": {
      "text/plain": [
       "Text(0, 0.5, 'Cross-Validated Accuracy')"
      ]
     },
     "execution_count": 99,
     "metadata": {},
     "output_type": "execute_result"
    },
    {
     "data": {
      "image/png": "[encoded data removed]",
      "text/plain": [
       "<Figure size 640x480 with 1 Axes>"
      ]
     },
     "metadata": {},
     "output_type": "display_data"
    }
   ],
   "source": [
    "import numpy as np\n",
    "from sklearn.model_selection import StratifiedKFold\n",
    "import matplotlib.pyplot as plt\n",
    "from sklearn.metrics import accuracy_score\n",
    "%matplotlib inline\n",
    "\n",
    "\n",
    "# search for the best value of K within a certain range\n",
    "k_range = list(range(1, 31))\n",
    "num_partitions = 10\n",
    "k_scores = []\n",
    "\n",
    "####### INSERT IMPLEMENTATION HERaccuracy = accuracy_score(y[test_indices],)E #######\n",
    "kf = StratifiedKFold(n_splits=num_partitions)\n",
    "for k in (k_range):\n",
    "    sum_accuracy = 0\n",
    "    for fold, (train_indices, test_indices) in enumerate(kf.split(X_train,y_train)):\n",
    "        y_pred = knn(X_train[test_indices],X_train[train_indices],y_train[train_indices],k)\n",
    "\n",
    "        accuracy = accuracy_score(y_train[test_indices],y_pred)\n",
    "        sum_accuracy += accuracy\n",
    "    k_scores.append(sum_accuracy/num_partitions)\n",
    "\n",
    "# Visualize Results\n",
    "plt.plot(k_range, k_scores)\n",
    "max_index = np.argmax(k_scores)\n",
    "plt.scatter(k_range[max_index],k_scores[max_index],color =\"red\")\n",
    "print(\"Max Score is at k = \",k_range[max_index])\n",
    "plt.xlabel('Value of K for KNN')\n",
    "plt.ylabel('Cross-Validated Accuracy')"
   ]
  },
  {
   "cell_type": "code",
   "execution_count": 100,
   "metadata": {},
   "outputs": [
    {
     "name": "stdout",
     "output_type": "stream",
     "text": [
      "[[-1.83050401e+00 -1.84148142e+00 -1.85176346e+00 ... -2.43699073e-01\n",
      "  -2.40487392e-01 -1.96301015e+00]\n",
      " [-8.08687387e-01 -8.28040014e-01 -7.99988893e-01 ...  7.40905598e-03\n",
      "   2.40267493e-02 -1.14508196e+00]\n",
      " [ 8.35862034e-01  6.72398976e-01  6.80678039e-01 ... -3.67575132e-01\n",
      "  -3.38089401e-01  7.57446309e-01]\n",
      " ...\n",
      " [-1.45065049e+00 -1.43644601e+00 -1.41330461e+00 ...  6.63342773e-01\n",
      "   7.25006676e-01 -1.27837468e+00]\n",
      " [-9.23497284e-01 -9.08079307e-01 -8.88440444e-01 ...  1.62355699e+01\n",
      "   1.86773298e+01  4.62603562e+00]\n",
      " [ 4.66832395e-01  4.50153176e-01  7.16089874e-01 ... -2.02046972e-01\n",
      "  -1.97501830e-01  8.23664049e-01]]\n",
      "0.7662337662337663\n"
     ]
    }
   ],
   "source": [
    "#predict Y_test with k =11 \n",
    "print(X_train)\n",
    "y_pred = knn(X_test,X_train,y_train,1)\n",
    "\n",
    "print(accuracy_score(y_pred,y_test))"
   ]
  },
  {
   "cell_type": "markdown",
   "metadata": {},
   "source": [
    "Part B"
   ]
  },
  {
   "cell_type": "code",
   "execution_count": 104,
   "metadata": {},
   "outputs": [
    {
     "name": "stdout",
     "output_type": "stream",
     "text": [
      "(768, 140)\n",
      "X_train.shape: (537, 140) X_test.shape (231, 140) y_train.shape: (537,) y_test.shape (537,)\n",
      "[[-1.83050401e+00 -1.84148142e+00 -1.85176346e+00 ... -2.43699073e-01\n",
      "  -2.40487392e-01 -1.96301015e+00]\n",
      " [-8.08687387e-01 -8.28040014e-01 -7.99988893e-01 ...  7.40905598e-03\n",
      "   2.40267493e-02 -1.14508196e+00]\n",
      " [ 8.35862034e-01  6.72398976e-01  6.80678039e-01 ... -3.67575132e-01\n",
      "  -3.38089401e-01  7.57446309e-01]\n",
      " ...\n",
      " [-1.45065049e+00 -1.43644601e+00 -1.41330461e+00 ...  6.63342773e-01\n",
      "   7.25006676e-01 -1.27837468e+00]\n",
      " [-9.23497284e-01 -9.08079307e-01 -8.88440444e-01 ...  1.62355699e+01\n",
      "   1.86773298e+01  4.62603562e+00]\n",
      " [ 4.66832395e-01  4.50153176e-01  7.16089874e-01 ... -2.02046972e-01\n",
      "  -1.97501830e-01  8.23664049e-01]]\n",
      "[[nan nan nan ... nan nan nan]\n",
      " [nan nan nan ... nan nan nan]\n",
      " [nan nan nan ... nan nan nan]\n",
      " ...\n",
      " [nan nan nan ... nan nan nan]\n",
      " [nan nan nan ... nan nan nan]\n",
      " [nan nan nan ... nan nan nan]]\n"
     ]
    },
    {
     "ename": "LinAlgError",
     "evalue": "Array must not contain infs or NaNs",
     "output_type": "error",
     "traceback": [
      "\u001b[0;31m---------------------------------------------------------------------------\u001b[0m",
      "\u001b[0;31mLinAlgError\u001b[0m                               Traceback (most recent call last)",
      "\u001b[1;32m/cmshome/heoyoun1/c11a2/A2_StarterCode.ipynb Cell 15\u001b[0m line \u001b[0;36m1\n\u001b[1;32m      <a href='vscode-notebook-cell:/cmshome/heoyoun1/c11a2/A2_StarterCode.ipynb#X20sZmlsZQ%3D%3D?line=7'>8</a>\u001b[0m cov \u001b[39m=\u001b[39m np\u001b[39m.\u001b[39mcov(X_train,rowvar\u001b[39m=\u001b[39m\u001b[39mFalse\u001b[39;00m)\n\u001b[1;32m      <a href='vscode-notebook-cell:/cmshome/heoyoun1/c11a2/A2_StarterCode.ipynb#X20sZmlsZQ%3D%3D?line=8'>9</a>\u001b[0m \u001b[39mprint\u001b[39m(cov)\n\u001b[0;32m---> <a href='vscode-notebook-cell:/cmshome/heoyoun1/c11a2/A2_StarterCode.ipynb#X20sZmlsZQ%3D%3D?line=9'>10</a>\u001b[0m eigenvalues, eigenvectors \u001b[39m=\u001b[39m np\u001b[39m.\u001b[39;49mlinalg\u001b[39m.\u001b[39;49meig(cov)\n\u001b[1;32m     <a href='vscode-notebook-cell:/cmshome/heoyoun1/c11a2/A2_StarterCode.ipynb#X20sZmlsZQ%3D%3D?line=10'>11</a>\u001b[0m \u001b[39mprint\u001b[39m(eigenvalues,eigenvectors)\n",
      "File \u001b[0;32m~/.local/lib/python3.10/site-packages/numpy/linalg/linalg.py:1329\u001b[0m, in \u001b[0;36meig\u001b[0;34m(a)\u001b[0m\n\u001b[1;32m   1327\u001b[0m _assert_stacked_2d(a)\n\u001b[1;32m   1328\u001b[0m _assert_stacked_square(a)\n\u001b[0;32m-> 1329\u001b[0m _assert_finite(a)\n\u001b[1;32m   1330\u001b[0m t, result_t \u001b[39m=\u001b[39m _commonType(a)\n\u001b[1;32m   1332\u001b[0m extobj \u001b[39m=\u001b[39m get_linalg_error_extobj(\n\u001b[1;32m   1333\u001b[0m     _raise_linalgerror_eigenvalues_nonconvergence)\n",
      "File \u001b[0;32m~/.local/lib/python3.10/site-packages/numpy/linalg/linalg.py:218\u001b[0m, in \u001b[0;36m_assert_finite\u001b[0;34m(*arrays)\u001b[0m\n\u001b[1;32m    216\u001b[0m \u001b[39mfor\u001b[39;00m a \u001b[39min\u001b[39;00m arrays:\n\u001b[1;32m    217\u001b[0m     \u001b[39mif\u001b[39;00m \u001b[39mnot\u001b[39;00m isfinite(a)\u001b[39m.\u001b[39mall():\n\u001b[0;32m--> 218\u001b[0m         \u001b[39mraise\u001b[39;00m LinAlgError(\u001b[39m\"\u001b[39m\u001b[39mArray must not contain infs or NaNs\u001b[39m\u001b[39m\"\u001b[39m)\n",
      "\u001b[0;31mLinAlgError\u001b[0m: Array must not contain infs or NaNs"
     ]
    }
   ],
   "source": [
    "#split data into test and training\n",
    "X - np.mean(X,axis = 0)\n",
    "print(X.shape)\n",
    "X_train, X_test, y_train, y_test = train_test_split(X,binary_label, test_size=0.3, random_state=42)\n",
    "print('X_train.shape:',X_train.shape,\"X_test.shape\",X_test.shape,\"y_train.shape:\",y_train.shape,\"y_test.shape\",y_train.shape)\n",
    "print(X_train)\n",
    "# first do PCA on the X_train set\n",
    "cov = np.cov(X_train,rowvar=False)\n",
    "print(cov)\n",
    "eigenvalues, eigenvectors = np.linalg.eig(cov)\n",
    "print(eigenvalues,eigenvectors)\n"
   ]
  },
  {
   "cell_type": "code",
   "execution_count": null,
   "metadata": {},
   "outputs": [],
   "source": []
  }
 ],
 "metadata": {
  "colab": {
   "provenance": []
  },
  "kernelspec": {
   "display_name": "Python 3 (ipykernel)",
   "language": "python",
   "name": "python3"
  },
  "language_info": {
   "codemirror_mode": {
    "name": "ipython",
    "version": 3
   },
   "file_extension": ".py",
   "mimetype": "text/x-python",
   "name": "python",
   "nbconvert_exporter": "python",
   "pygments_lexer": "ipython3",
   "version": "3.10.12"
  }
 },
 "nbformat": 4,
 "nbformat_minor": 1
}
