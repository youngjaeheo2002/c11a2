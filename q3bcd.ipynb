{
 "cells": [
  {
   "cell_type": "markdown",
   "metadata": {},
   "source": [
    "Q3 part b\n"
   ]
  },
  {
   "cell_type": "code",
   "execution_count": 11,
   "metadata": {},
   "outputs": [
    {
     "name": "stdout",
     "output_type": "stream",
     "text": [
      "[0.75026011 0.84553473 0.81757448 0.7109495  0.62245933 0.81757448\n",
      " 0.75026011]\n",
      "[ 0.20477175 -0.35426438  0.68685387]\n",
      "accuracy_score: 0.5714285714285714\n",
      "[0.52220622 0.62208956 0.53597832 0.28523698 0.16421986 0.37540753\n",
      " 0.22835627]\n",
      "[ 0.27913091 -0.3089443   0.69951893]\n",
      "accuracy_score: 0.8571428571428571\n",
      "[0.64112846 0.75740912 0.69626672 0.47570664 0.32846439 0.61325417\n",
      " 0.46086103]\n",
      "[ 0.27208574 -0.35574855  0.69978802]\n",
      "accuracy_score: 1.0\n",
      "[1. 1. 1. 0. 0. 1. 0.]\n",
      "[ 0.27208574 -0.35574855  0.69978802]\n",
      "accuracy_score: 1.0\n"
     ]
    }
   ],
   "source": [
    "import math\n",
    "import numpy as np\n",
    "from sklearn.metrics import accuracy_score\n",
    "w_0 = np.array([0.3,-0.2,0.7]).T\n",
    "x = np.array([[4,4,1],[6,4,1],[6,5,1],[6,8,1],[6,10,1],[8,8,1],[8,10,1]])\n",
    "y = np.array([1,1,1,0,0,1,0])\n",
    "def p(w,x):\n",
    "    return  1/(1+math.exp(- w.T @ x))\n",
    "\n",
    "def new_W(oldW,y,y_pred,x):\n",
    "    sum = 0\n",
    "\n",
    "    for i in range(len(y)):\n",
    "        sum += (y[i]-y_pred[i])*x[i].T\n",
    "    return oldW - 0.01*-1 *sum\n",
    "\n",
    "#iter 1\n",
    "y_pred = np.zeros((len(x)))\n",
    "for i in range(len(x)):\n",
    "    y_pred[i] = p(w_0,x[i].T)\n",
    "print(y_pred)\n",
    "w_1 = new_W(w_0,y,y_pred,x)\n",
    "print(w_1)\n",
    "y_pred = np.round(y_pred)\n",
    "\n",
    "print(\"accuracy_score:\",accuracy_score(y_pred,y))\n",
    "\n",
    "#iter2\n",
    "y_pred = np.zeros((len(x)))\n",
    "for i in range(len(x)):\n",
    "    y_pred[i] = p(w_1,x[i].T)\n",
    "print(y_pred)\n",
    "w_2 = new_W(w_1,y,y_pred,x)\n",
    "print(w_2)\n",
    "\n",
    "y_pred = np.round(y_pred)\n",
    "\n",
    "print(\"accuracy_score:\",accuracy_score(y_pred,y))\n",
    "#iter3\n",
    "y_pred = np.zeros((len(x)))\n",
    "for i in range(len(x)):\n",
    "    y_pred[i] = p(w_2,x[i].T)\n",
    "print(y_pred)\n",
    "w_3 = new_W(w_2,y,y_pred,x)\n",
    "print(w_3)\n",
    "\n",
    "y_pred = np.round(y_pred)\n",
    "\n",
    "print(\"accuracy_score:\",accuracy_score(y_pred,y))\n",
    "#iter4\n",
    "y_pred = np.zeros((len(x)))\n",
    "for i in range(len(x)):\n",
    "    y_pred[i] = p(w_3,x[i].T)\n",
    "y_pred = np.round(y_pred)\n",
    "print(y_pred)\n",
    "w_4 = new_W(w_3,y,y_pred,x)\n",
    "print(w_4)\n",
    "y_pred = np.round(y_pred)\n",
    "\n",
    "print(\"accuracy_score:\",accuracy_score(y_pred,y))\n",
    "\n",
    "\n",
    "\n",
    "\n",
    "    \n"
   ]
  },
  {
   "cell_type": "code",
   "execution_count": null,
   "metadata": {},
   "outputs": [],
   "source": []
  }
 ],
 "metadata": {
  "kernelspec": {
   "display_name": "Python 3",
   "language": "python",
   "name": "python3"
  },
  "language_info": {
   "codemirror_mode": {
    "name": "ipython",
    "version": 3
   },
   "file_extension": ".py",
   "mimetype": "text/x-python",
   "name": "python",
   "nbconvert_exporter": "python",
   "pygments_lexer": "ipython3",
   "version": "3.10.12"
  }
 },
 "nbformat": 4,
 "nbformat_minor": 2
}
