{
 "cells": [
  {
   "cell_type": "code",
   "execution_count": 1,
   "metadata": {
    "id": "J1grKKjV-nzO",
    "outputId": "2b07549d-7ba6-4e10-dd9d-b232e58d6d35"
   },
   "outputs": [
    {
     "name": "stdout",
     "output_type": "stream",
     "text": [
      "Defaulting to user installation because normal site-packages is not writeable\n",
      "Requirement already satisfied: librosa in /home/dom/.local/lib/python3.10/site-packages (0.10.1)\n",
      "Requirement already satisfied: numpy!=1.22.0,!=1.22.1,!=1.22.2,>=1.20.3 in /home/dom/.local/lib/python3.10/site-packages (from librosa) (1.25.0)\n",
      "Requirement already satisfied: scipy>=1.2.0 in /usr/lib/python3/dist-packages (from librosa) (1.8.0)\n",
      "Requirement already satisfied: numba>=0.51.0 in /home/dom/.local/lib/python3.10/site-packages (from librosa) (0.58.1)\n",
      "Requirement already satisfied: soxr>=0.3.2 in /home/dom/.local/lib/python3.10/site-packages (from librosa) (0.3.7)\n",
      "Requirement already satisfied: scikit-learn>=0.20.0 in /usr/lib/python3/dist-packages (from librosa) (0.23.2)\n",
      "Requirement already satisfied: decorator>=4.3.0 in /usr/lib/python3/dist-packages (from librosa) (4.4.2)\n",
      "Requirement already satisfied: soundfile>=0.12.1 in /home/dom/.local/lib/python3.10/site-packages (from librosa) (0.12.1)\n",
      "Requirement already satisfied: typing-extensions>=4.1.1 in /home/dom/.local/lib/python3.10/site-packages (from librosa) (4.8.0)\n",
      "Requirement already satisfied: joblib>=0.14 in /usr/lib/python3/dist-packages (from librosa) (0.17.0)\n",
      "Requirement already satisfied: lazy-loader>=0.1 in /home/dom/.local/lib/python3.10/site-packages (from librosa) (0.3)\n",
      "Requirement already satisfied: pooch>=1.0 in /home/dom/.local/lib/python3.10/site-packages (from librosa) (1.8.0)\n",
      "Requirement already satisfied: audioread>=2.1.9 in /home/dom/.local/lib/python3.10/site-packages (from librosa) (3.0.1)\n",
      "Requirement already satisfied: msgpack>=1.0 in /home/dom/.local/lib/python3.10/site-packages (from librosa) (1.0.7)\n",
      "Requirement already satisfied: llvmlite<0.42,>=0.41.0dev0 in /home/dom/.local/lib/python3.10/site-packages (from numba>=0.51.0->librosa) (0.41.1)\n",
      "Requirement already satisfied: requests>=2.19.0 in /usr/lib/python3/dist-packages (from pooch>=1.0->librosa) (2.25.1)\n",
      "Requirement already satisfied: packaging>=20.0 in /usr/lib/python3/dist-packages (from pooch>=1.0->librosa) (21.3)\n",
      "Requirement already satisfied: platformdirs>=2.5.0 in /home/dom/.local/lib/python3.10/site-packages (from pooch>=1.0->librosa) (3.10.0)\n",
      "Requirement already satisfied: cffi>=1.0 in /home/dom/.local/lib/python3.10/site-packages (from soundfile>=0.12.1->librosa) (1.16.0)\n",
      "Requirement already satisfied: pycparser in /home/dom/.local/lib/python3.10/site-packages (from cffi>=1.0->soundfile>=0.12.1->librosa) (2.21)\n",
      "Note: you may need to restart the kernel to use updated packages.\n"
     ]
    }
   ],
   "source": [
    "%pip install librosa"
   ]
  },
  {
   "cell_type": "code",
   "execution_count": 2,
   "metadata": {
    "id": "0CQf65BS-nzT",
    "outputId": "37de0002-4906-4e99-a47f-609be2f2fade"
   },
   "outputs": [
    {
     "data": {
      "text/plain": [
       "'\\nPlease install this specific version of resampy for librosa to work without errors.\\n'"
      ]
     },
     "execution_count": 2,
     "metadata": {},
     "output_type": "execute_result"
    }
   ],
   "source": [
    "'''\n",
    "Please install this specific version of resampy for librosa to work without errors.\n",
    "'''"
   ]
  },
  {
   "cell_type": "code",
   "execution_count": 3,
   "metadata": {
    "id": "7FE1qM7n-nzU",
    "outputId": "02c7b706-8c9c-42b4-ed25-b98f7cd915de"
   },
   "outputs": [
    {
     "name": "stdout",
     "output_type": "stream",
     "text": [
      "Defaulting to user installation because normal site-packages is not writeable\n",
      "Requirement already satisfied: resampy==0.3.1 in /home/dom/.local/lib/python3.10/site-packages (0.3.1)\n",
      "Requirement already satisfied: numpy>=1.17 in /home/dom/.local/lib/python3.10/site-packages (from resampy==0.3.1) (1.25.0)\n",
      "Requirement already satisfied: numba>=0.47 in /home/dom/.local/lib/python3.10/site-packages (from resampy==0.3.1) (0.58.1)\n",
      "Requirement already satisfied: llvmlite<0.42,>=0.41.0dev0 in /home/dom/.local/lib/python3.10/site-packages (from numba>=0.47->resampy==0.3.1) (0.41.1)\n",
      "Note: you may need to restart the kernel to use updated packages.\n"
     ]
    }
   ],
   "source": [
    "%pip install resampy==0.3.1"
   ]
  },
  {
   "cell_type": "code",
   "execution_count": 4,
   "metadata": {
    "id": "_hwFIUlFzTYw",
    "outputId": "9419a67b-5c1d-47e0-a7f5-ec9b9cad5bca"
   },
   "outputs": [
    {
     "name": "stderr",
     "output_type": "stream",
     "text": [
      "/usr/lib/python3/dist-packages/scipy/__init__.py:146: UserWarning: A NumPy version >=1.17.3 and <1.25.0 is required for this version of SciPy (detected version 1.25.0\n",
      "  warnings.warn(f\"A NumPy version >={np_minversion} and <{np_maxversion}\"\n"
     ]
    }
   ],
   "source": [
    "import soundfile\n",
    "import os\n",
    "import glob\n",
    "import pandas as pd\n",
    "import numpy as np\n",
    "from sklearn.model_selection import train_test_split\n",
    "import librosa\n",
    "from sklearn.svm import SVC, LinearSVC\n",
    "from sklearn.metrics import classification_report\n",
    "import warnings; warnings.filterwarnings('ignore')"
   ]
  },
  {
   "cell_type": "code",
   "execution_count": 5,
   "metadata": {
    "id": "GWrZdqrp2E98"
   },
   "outputs": [],
   "source": [
    "emotions ={\n",
    "  '01':'neutral',\n",
    "  '02':'calm',\n",
    "  '03':'happy',\n",
    "  '04':'sad',\n",
    "  '05':'angry',\n",
    "  '06':'fearful',\n",
    "  '07':'disgust',\n",
    "  '08':'surprised'\n",
    "}"
   ]
  },
  {
   "cell_type": "markdown",
   "metadata": {
    "id": "UrgQMSEU-nzZ"
   },
   "source": [
    "### Data for binary classification\n"
   ]
  },
  {
   "cell_type": "code",
   "execution_count": 6,
   "metadata": {
    "id": "vSe0sBT12HgO"
   },
   "outputs": [],
   "source": [
    "def load_extract_features(data_path):\n",
    "\n",
    "    '''\n",
    "    load_extract_features() is a function that is used to load all the audio files one at a time, compute their features and return the features as well as the target values.\n",
    "\n",
    "    There are around 8-10 audio files which are corrupted. We hardcode zero values for such files in order to maintain consistency.\n",
    "\n",
    "    ['calm', 'happy'] emotion data is categorized into 'positive' and  ['angry', 'fearful'] into 'negative'\n",
    "\n",
    "    Returns:\n",
    "    1. Features\n",
    "    2. Binary Target Values\n",
    "    '''\n",
    "    final_features,target_emotions, binary_label = [],[], []\n",
    "    count = 0\n",
    "    \n",
    "    for i in glob.glob(data_path + \"/Actor_*/*.wav\"): #Loop to read every file.\n",
    "        \n",
    "        name = os.path.basename(i)\n",
    "        #We split the name of the file to understand the emotion associated with the file.\n",
    "        split = name.split(\"-\")\n",
    "        #We know that the third identifier is associated with the emotion of the audio file. Hence, we use [2] as it represents the third identifier.\n",
    "        emotion = emotions[split[2]]\n",
    "\n",
    "        #Below is the code to categorize the emotions into two classes to make this a binary problem.\n",
    "        if emotion in ['calm', 'happy']:\n",
    "            binary_label.append(0)\n",
    "        elif emotion in ['angry', 'fearful']:\n",
    "            binary_label.append(1)\n",
    "        else:\n",
    "            continue\n",
    "        \n",
    "        with soundfile.SoundFile(i) as audio:\n",
    "            waveform = audio.read(dtype=\"float32\")\n",
    "            sr = audio.samplerate\n",
    "            \n",
    "            #Below is the code to extract the Mel spectrogram features\n",
    "            #128 is the standard for machine learning applications using Mel spectrograms\n",
    "            m_feature = librosa.feature.melspectrogram(y=waveform, sr=sr, n_mels=128, fmax=sr / 2.0).T\n",
    "            melspectrogram = np.mean(m_feature,axis=0)\n",
    "            if melspectrogram.shape != (128,):\n",
    "                melspectrogram = np.zeros(128)\n",
    "            \n",
    "            #Below is the code to extract the chromagram features\n",
    "            stft_wave = librosa.stft(waveform)\n",
    "            stft = np.abs(stft_wave)\n",
    "            c_feature = librosa.feature.chroma_stft(S=stft, sr=sr).T\n",
    "            chromagram = np.mean(c_feature,axis=0)\n",
    "            \n",
    "            #12 is the number of pitch classes\n",
    "            if chromagram.shape != (12,):\n",
    "                chromagram = np.zeros(12)\n",
    "                \n",
    "            features=np.array([])\n",
    "            features=np.hstack((chromagram, melspectrogram))\n",
    "        \n",
    "            final_features.append(features)\n",
    "            target_emotions.append(emotion)\n",
    "            \n",
    "            count += 1\n",
    "            if count % 100 == 0:\n",
    "                print(\"Processed Audio File Number: \", count)\n",
    "    \n",
    "    #We return the features and the binary target values.\n",
    "    return np.array(final_features), np.array(binary_label)"
   ]
  },
  {
   "cell_type": "code",
   "execution_count": 8,
   "metadata": {
    "id": "aER6S-_k2a9H"
   },
   "outputs": [
    {
     "name": "stdout",
     "output_type": "stream",
     "text": [
      "Processed Audio File Number:  100\n",
      "Processed Audio File Number:  200\n",
      "Processed Audio File Number:  300\n",
      "Processed Audio File Number:  400\n",
      "Processed Audio File Number:  500\n",
      "Processed Audio File Number:  600\n",
      "Processed Audio File Number:  700\n"
     ]
    }
   ],
   "source": [
    "#Please change the path below to the path of the folder saved on your computer.\n",
    "data_path = './audio_speech_actors_01-24'\n",
    "X, binary_label = load_extract_features(data_path)"
   ]
  },
  {
   "cell_type": "code",
   "execution_count": 9,
   "metadata": {},
   "outputs": [
    {
     "name": "stdout",
     "output_type": "stream",
     "text": [
      "[[5.16858757e-01 5.33194840e-01 5.29453754e-01 ... 4.02650464e-08\n",
      "  8.08175571e-09 6.75256873e-09]\n",
      " [6.04014695e-01 5.90544760e-01 6.36313319e-01 ... 1.30306420e-04\n",
      "  1.18871294e-05 4.47097399e-08]\n",
      " [4.65188712e-01 4.62528020e-01 4.49644387e-01 ... 4.76428212e-08\n",
      "  9.07249476e-09 5.81690918e-09]\n",
      " ...\n",
      " [6.23701811e-01 5.20824969e-01 5.08405566e-01 ... 1.28668421e-06\n",
      "  1.06063219e-07 8.18918444e-09]\n",
      " [6.10289574e-01 6.07244730e-01 6.01210058e-01 ... 3.32076304e-08\n",
      "  8.18264390e-09 6.88534252e-09]\n",
      " [6.66881859e-01 6.45011961e-01 6.21618748e-01 ... 1.49683530e-07\n",
      "  2.09078372e-08 6.57300303e-09]]\n",
      "[0 1 0 1 0 1 0 1 1 0 0 0 1 0 1 1 1 1 1 0 0 0 0 0 1 1 1 1 0 0 1 0 1 0 1 0 0\n",
      " 0 1 0 1 1 1 1 0 0 0 0 0 0 1 1 0 1 1 0 0 0 0 1 1 1 1 1 1 0 0 1 1 0 0 0 1 0\n",
      " 0 0 0 1 0 0 0 0 1 0 0 1 1 1 1 1 0 1 1 1 1 1 1 1 0 1 0 0 0 1 1 0 1 0 0 1 0\n",
      " 0 0 1 0 0 1 0 1 0 0 1 1 1 0 1 1 1 0 0 1 1 0 1 0 0 1 0 0 0 0 0 1 1 0 1 1 1\n",
      " 0 0 1 1 1 0 1 1 0 1 1 0 1 0 1 1 0 1 1 0 0 1 1 1 1 0 1 0 0 1 1 1 0 0 1 0 0\n",
      " 0 1 0 0 1 0 0 0 0 0 1 1 0 0 1 1 0 1 1 1 1 0 0 1 0 1 1 1 1 0 0 1 1 0 1 0 0\n",
      " 0 0 0 1 0 1 0 0 1 1 0 1 0 1 1 1 1 0 0 1 0 1 1 0 0 1 0 0 1 1 0 0 1 0 1 1 0\n",
      " 0 1 1 0 0 0 0 0 0 1 0 0 0 1 1 0 0 0 1 0 1 1 1 1 1 1 1 0 1 0 0 0 0 0 1 1 0\n",
      " 1 1 0 0 1 1 1 1 0 0 0 1 1 0 1 1 1 0 0 1 1 0 1 0 0 0 1 0 0 0 1 0 0 1 1 1 0\n",
      " 1 1 1 1 0 1 0 0 1 1 0 1 1 0 0 1 1 0 0 0 1 1 0 1 1 1 0 0 0 0 1 1 0 0 1 0 0\n",
      " 1 1 1 1 1 0 0 0 1 0 0 1 0 1 1 1 0 0 1 1 0 0 0 1 1 0 0 0 1 1 0 0 1 0 0 0 1\n",
      " 1 0 1 1 0 1 1 0 1 1 0 1 0 1 0 0 1 1 1 0 0 0 1 0 1 0 1 0 1 1 1 1 1 0 0 1 0\n",
      " 0 1 0 0 1 0 0 0 1 0 1 0 1 0 1 1 0 1 1 1 1 1 1 0 1 0 0 1 0 0 0 0 0 1 0 1 0\n",
      " 0 0 1 0 1 1 1 0 0 1 0 1 1 0 0 1 1 0 1 1 0 1 1 1 0 0 0 0 1 1 0 0 1 1 1 1 1\n",
      " 0 1 0 0 0 0 0 1 1 0 1 1 0 1 0 0 0 0 1 0 0 0 1 1 1 1 1 1 0 0 0 0 0 1 1 0 0\n",
      " 1 0 1 1 1 0 0 0 0 1 0 1 1 0 0 1 0 1 1 1 1 0 1 1 0 0 0 1 1 0 0 0 1 0 0 0 0\n",
      " 0 0 0 1 1 1 1 0 1 1 1 1 1 0 1 1 0 1 1 0 0 1 1 1 0 0 0 1 0 0 1 1 0 1 1 0 0\n",
      " 1 0 1 0 1 0 0 0 1 1 1 1 1 1 0 1 1 1 0 1 0 1 0 0 0 1 1 0 1 0 0 1 0 0 1 1 1\n",
      " 0 0 1 0 0 0 0 1 1 1 0 0 1 0 1 0 1 1 1 0 1 0 0 1 0 0 1 0 0 1 1 1 0 0 0 1 1\n",
      " 0 0 0 0 0 1 1 0 1 0 0 0 1 0 0 0 1 1 1 1 1 1 1 0 1 1 0 1 0 0 1 1 0 0 1 0 1\n",
      " 1 1 0 0 0 0 1 0 1 1 0 0 1 1 1 0 1 1 1 0 1 1 0 0 0 1 0 0]\n"
     ]
    }
   ],
   "source": [
    "print(X)\n",
    "print(binary_label)"
   ]
  },
  {
   "cell_type": "markdown",
   "metadata": {},
   "source": [
    "# a) Knn With Cross Validation to find value K:"
   ]
  },
  {
   "cell_type": "markdown",
   "metadata": {},
   "source": [
    "## Split the data"
   ]
  },
  {
   "cell_type": "code",
   "execution_count": 45,
   "metadata": {},
   "outputs": [
    {
     "name": "stdout",
     "output_type": "stream",
     "text": [
      "(537, 140)\n",
      "(231, 140)\n",
      "(537,)\n",
      "(231,)\n"
     ]
    }
   ],
   "source": [
    "#Split the data, 70% train, 30% test\n",
    "X_train, X_test, Y_train, Y_test = train_test_split(X, binary_label, test_size=0.30, train_size=0.70, random_state=20)\n",
    "\n",
    "print(X_train.shape)\n",
    "print(X_test.shape)\n",
    "print(Y_train.shape)\n",
    "print(Y_test.shape)"
   ]
  },
  {
   "cell_type": "markdown",
   "metadata": {},
   "source": [
    "## Implement KNN"
   ]
  },
  {
   "cell_type": "code",
   "execution_count": 46,
   "metadata": {},
   "outputs": [],
   "source": [
    "def KNN(k, x_train, y_train, x_test):\n",
    "    predictedValues = []\n",
    "    for point in x_test:\n",
    "        # calculate all the distances between the training set and the point\n",
    "        distances = [np.power(np.linalg.norm(x - point), 2) for x in x_train]\n",
    "        # find the smallest k distances\n",
    "        smallestK = np.argpartition(distances, k)[:k]\n",
    "        # find the corresponding labels from the smallest k distances\n",
    "        y_values = y_train[smallestK]\n",
    "        #Find the majority label and assign it to the prediction array\n",
    "        predictedValues.append(np.bincount(y_values).argmax())\n",
    "\n",
    "    return predictedValues\n",
    "\n",
    "    "
   ]
  },
  {
   "cell_type": "markdown",
   "metadata": {},
   "source": [
    "## Find best K with Cross Validation"
   ]
  },
  {
   "cell_type": "code",
   "execution_count": 47,
   "metadata": {},
   "outputs": [],
   "source": [
    "def get_accuracy(prediction, labels):\n",
    "    same_element = 0\n",
    "    for i in range(len(prediction)):\n",
    "        if prediction[i] == labels[i]:\n",
    "            same_element += 1\n",
    "    return same_element / len(prediction)"
   ]
  },
  {
   "cell_type": "code",
   "execution_count": 48,
   "metadata": {},
   "outputs": [],
   "source": [
    "from sklearn.model_selection import StratifiedKFold\n",
    "import matplotlib.pyplot as plt\n",
    "from sklearn.neighbors import KNeighborsClassifier\n",
    "from sklearn.metrics import accuracy_score\n",
    "%matplotlib inline\n",
    "\n",
    "#have the same set of rows for the PCA and normal cross validation \n",
    "num_partitions = 10\n",
    "global_partitions = StratifiedKFold(n_splits=num_partitions)\n",
    "indices = []\n",
    "for fold, (train, test) in enumerate(global_partitions.split(X_train, Y_train)):\n",
    "    indices.append((train, test))\n",
    "\n",
    "def find_best_k():\n",
    "    num_partitions = 10\n",
    "\n",
    "    k_range = list(range(3, 35))\n",
    "    k_scores = []\n",
    "    best_k = 3\n",
    "\n",
    "    for k in k_range:\n",
    "        total = 0\n",
    "        for (train, test) in indices:\n",
    "            x_train, x_test, y_train, y_test = X_train[train], X_train[test], Y_train[train], Y_train[test]\n",
    "\n",
    "            prediction = KNN(k, x_train, y_train, x_test)\n",
    "\n",
    "            accuracy = get_accuracy(prediction, y_test)\n",
    "            total += accuracy\n",
    "        mean = total / num_partitions\n",
    "        k_scores.append(mean)\n",
    "        if mean > k_scores[best_k-3]:\n",
    "            best_k = k\n",
    "\n",
    "    # Visualize Results\n",
    "    plt.plot(k_range, k_scores)\n",
    "    plt.xlabel('Value of K for KNN')\n",
    "    plt.ylabel('Cross-Validated Accuracy')\n",
    "\n",
    "    print(\"Best K:\" + str(best_k))\n",
    "\n",
    "    return best_k\n"
   ]
  },
  {
   "cell_type": "markdown",
   "metadata": {},
   "source": [
    "## Find the best k to apply to the testing set"
   ]
  },
  {
   "cell_type": "code",
   "execution_count": 49,
   "metadata": {},
   "outputs": [
    {
     "name": "stdout",
     "output_type": "stream",
     "text": [
      "Best K:6\n",
      "CPU times: user 26.3 s, sys: 12 ms, total: 26.3 s\n",
      "Wall time: 26.3 s\n"
     ]
    },
    {
     "data": {
      "image/png": "[encoded data removed]",
      "text/plain": [
       "<Figure size 640x480 with 1 Axes>"
      ]
     },
     "metadata": {},
     "output_type": "display_data"
    }
   ],
   "source": [
    "%%time\n",
    "k = find_best_k()"
   ]
  },
  {
   "cell_type": "markdown",
   "metadata": {},
   "source": [
    "## Determine accuracy and runtime of KNN"
   ]
  },
  {
   "cell_type": "code",
   "execution_count": 54,
   "metadata": {},
   "outputs": [
    {
     "name": "stdout",
     "output_type": "stream",
     "text": [
      "ACCURACY: 0.6926406926406926\n",
      "CPU times: user 426 ms, sys: 3.42 ms, total: 430 ms\n",
      "Wall time: 426 ms\n"
     ]
    }
   ],
   "source": [
    "%%time\n",
    "prediction = KNN(k, X_train, Y_train, X_test)\n",
    "\n",
    "accuracy = get_accuracy(prediction, Y_test)\n",
    "\n",
    "print(\"ACCURACY: \" + str(accuracy))"
   ]
  },
  {
   "cell_type": "markdown",
   "metadata": {},
   "source": [
    "As you can see, when preforming cross validation on the normal data set with over 100 features, we have an accuracy of 69% while having a running time of about 426ms."
   ]
  },
  {
   "cell_type": "markdown",
   "metadata": {},
   "source": [
    "# b) Perform the PCA Approach"
   ]
  },
  {
   "cell_type": "code",
   "execution_count": 55,
   "metadata": {},
   "outputs": [],
   "source": [
    "def perform_PCA(threshold):\n",
    "\n",
    "    # 1. Find the mean ans subtract it from all the data points\n",
    "    meanX = np.mean(X, axis=0)\n",
    "    alteredX = X - meanX\n",
    "\n",
    "    # 2. Calculate the covariance matrix\n",
    "    covX = np.cov(alteredX, rowvar=False)\n",
    "\n",
    "    # 3. Determine the eigenvalues and eigenvectors\n",
    "    eigenvalues, eigenvectors = np.linalg.eig(covX)\n",
    "    # 4. sort the eigenvalues and eigenvectors\n",
    "    eigen_indices = np.argsort(eigenvalues)\n",
    "    eigenvalues = eigenvalues[eigen_indices]\n",
    "    eigenvectors = eigenvectors[eigen_indices]\n",
    "\n",
    "    eigen_len = len(eigenvalues)\n",
    "    eigenvalue_sum = np.sum(eigenvalues)\n",
    "    selected_eigenvectors = []\n",
    "    sum = 0\n",
    "\n",
    "    # 5. starting from the largest eigenvalue, find the eigenvalues that cross the threshold\n",
    "    for i in range(eigen_len-1, 0, -1):\n",
    "        sum += eigenvalues[i]\n",
    "        selected_eigenvectors.append(eigenvectors[i])\n",
    "        if (sum/eigenvalue_sum > threshold):\n",
    "            break\n",
    "\n",
    "    # 6. and 7. For each point x, multiply it by our selected eigenvectors to determine our new mapped X\n",
    "    W = np.array(selected_eigenvectors).T\n",
    "    newX = [np.matmul(W.T, x-meanX) for x in X]\n",
    "    return np.array(newX)\n",
    "\n",
    "\n",
    "        \n",
    "\n",
    "\n",
    "\n",
    "\n"
   ]
  },
  {
   "cell_type": "code",
   "execution_count": 56,
   "metadata": {},
   "outputs": [
    {
     "name": "stdout",
     "output_type": "stream",
     "text": [
      "(768, 14)\n",
      "------------------------\n",
      "(537, 14)\n",
      "(231, 14)\n",
      "(537,)\n",
      "(231,)\n"
     ]
    }
   ],
   "source": [
    "newX = perform_PCA(.96)\n",
    "print(newX.shape)\n",
    "print(\"------------------------\")\n",
    "\n",
    "X_train, X_test, Y_train, Y_test = train_test_split(newX, binary_label, test_size=0.30, train_size=0.70, random_state=20)\n",
    "\n",
    "print(X_train.shape)\n",
    "print(X_test.shape)\n",
    "print(Y_train.shape)\n",
    "print(Y_test.shape)\n"
   ]
  },
  {
   "cell_type": "code",
   "execution_count": 57,
   "metadata": {},
   "outputs": [
    {
     "name": "stdout",
     "output_type": "stream",
     "text": [
      "Best K:3\n",
      "CPU times: user 24.3 s, sys: 8.17 ms, total: 24.3 s\n",
      "Wall time: 24.3 s\n"
     ]
    },
    {
     "data": {
      "image/png": "[encoded data removed]",
      "text/plain": [
       "<Figure size 640x480 with 1 Axes>"
      ]
     },
     "metadata": {},
     "output_type": "display_data"
    }
   ],
   "source": [
    "%%time\n",
    "k = find_best_k()"
   ]
  },
  {
   "cell_type": "code",
   "execution_count": 60,
   "metadata": {},
   "outputs": [
    {
     "name": "stdout",
     "output_type": "stream",
     "text": [
      "ACCURACY: 0.683982683982684\n",
      "CPU times: user 377 ms, sys: 2.09 ms, total: 379 ms\n",
      "Wall time: 375 ms\n"
     ]
    }
   ],
   "source": [
    "%%time\n",
    "prediction = KNN(k, X_train, Y_train, X_test)\n",
    "\n",
    "accuracy = get_accuracy(prediction, Y_test)\n",
    "\n",
    "print(\"ACCURACY: \" + str(accuracy))"
   ]
  },
  {
   "cell_type": "markdown",
   "metadata": {},
   "source": [
    "As you can see, when reducing the dimensionality of the data, we get an accuracy of around 68%, while having a runtime of around 375ms"
   ]
  },
  {
   "cell_type": "markdown",
   "metadata": {},
   "source": [
    "Comparing our PCA cross validation results with the results from the original dataset, we see that the accuracy is about the same, at 68% compared to 69% for the normal dataset, even though we reduced the number of features by over 100. In addition, the runtime is much lower than the normal data set, thus we are able to acheive a similar accuracy in a shorter run time for both the testing set prediction as well as the cross validation itself."
   ]
  }
 ],
 "metadata": {
  "colab": {
   "provenance": []
  },
  "kernelspec": {
   "display_name": "Python 3 (ipykernel)",
   "language": "python",
   "name": "python3"
  },
  "language_info": {
   "codemirror_mode": {
    "name": "ipython",
    "version": 3
   },
   "file_extension": ".py",
   "mimetype": "text/x-python",
   "name": "python",
   "nbconvert_exporter": "python",
   "pygments_lexer": "ipython3",
   "version": "3.10.12"
  }
 },
 "nbformat": 4,
 "nbformat_minor": 1
}
